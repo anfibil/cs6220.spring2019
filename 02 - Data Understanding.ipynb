{
 "cells": [
  {
   "cell_type": "markdown",
   "metadata": {},
   "source": [
    "# Data Understanding\n",
    "\n",
    "Data understanding is the preliminary investigation of the data in order to better understand their specific characteristics. Data understanding consists of describing, exploring, and and identifying problems with the data."
   ]
  },
  {
   "cell_type": "markdown",
   "metadata": {},
   "source": [
    "## Summary Statistics"
   ]
  },
  {
   "cell_type": "markdown",
   "metadata": {},
   "source": [
    "Summary statistics are the numbers that summarize properties of the data. Summarized properties include frequency, location, and spread. Most summary statistics can be calculated in a single pass through the data. There are many ways to obtain summary statistics for your data in Python.\n",
    "\n",
    "Below, we will demonstrate how to obtain summary statistics using pandas and NumPy. First, we import both of these libraries:"
   ]
  },
  {
   "cell_type": "code",
   "execution_count": 1,
   "metadata": {},
   "outputs": [],
   "source": [
    "import pandas as pd\n",
    "import numpy as np\n",
    "\n",
    "# Magic command required for showing plots in notebook\n",
    "%matplotlib inline"
   ]
  },
  {
   "cell_type": "markdown",
   "metadata": {},
   "source": [
    "Next, we generate two illustrative datasets from which we can generate summary statistics:"
   ]
  },
  {
   "cell_type": "code",
   "execution_count": 2,
   "metadata": {},
   "outputs": [],
   "source": [
    "npvalues = np.random.randint(500, size=10000)  # NumPy ndarray of 10,000 random numbers in range [0-500)\n",
    "pdvalues = pd.Series(np.random.randint(500, size=10000)) # pandas Series of 10,000 random numbers in range [0-500)"
   ]
  },
  {
   "cell_type": "markdown",
   "metadata": {},
   "source": [
    "NumPy provides an *n*-dimensional array (`ndarray`) object that is a multidimensional container of items of the same type and size. Below, we show the first 10 elements represented as an `ndarray`, which is the default output of the above `nd.random.randint()` function."
   ]
  },
  {
   "cell_type": "code",
   "execution_count": 3,
   "metadata": {},
   "outputs": [
    {
     "data": {
      "text/plain": [
       "array([294, 130, 201, 338, 445, 492, 252,  35,  29, 353])"
      ]
     },
     "execution_count": 3,
     "metadata": {},
     "output_type": "execute_result"
    }
   ],
   "source": [
    "npvalues[:10]"
   ]
  },
  {
   "cell_type": "markdown",
   "metadata": {},
   "source": [
    "pandas Series are implemented as labeled `ndarrays`. Therefore, all of the statistical methods available to `ndarrays` can also be used with pandas `Series`. pandas `Series` also provide additional functionality, as we will show. Below, we show the first 10 elements represented as a pandas `Series`. We generated this representation by converting the default `ndarray` to a `Series` with the above `pd.Series()` function."
   ]
  },
  {
   "cell_type": "code",
   "execution_count": 4,
   "metadata": {},
   "outputs": [
    {
     "data": {
      "text/plain": [
       "0    295\n",
       "1     80\n",
       "2    296\n",
       "3    394\n",
       "4     69\n",
       "5    286\n",
       "6     76\n",
       "7    245\n",
       "8    479\n",
       "9    371\n",
       "dtype: int64"
      ]
     },
     "execution_count": 4,
     "metadata": {},
     "output_type": "execute_result"
    }
   ],
   "source": [
    "pdvalues[:10]"
   ]
  },
  {
   "cell_type": "markdown",
   "metadata": {},
   "source": [
    "Built-in methods are available for basic statistics. Some are demonstrated below:"
   ]
  },
  {
   "cell_type": "code",
   "execution_count": 5,
   "metadata": {},
   "outputs": [
    {
     "name": "stdout",
     "output_type": "stream",
     "text": [
      "MIN(npvalues) = 0                         MIN(pdvalues) = 0\n",
      "MAX(npvalues) = 499                       MAX(pdvalues) = 499\n",
      "RANGE(npvalues) = 499                     RANGE(pdvalues) = 499\n",
      "MEAN(npvalues) = 249.5316                 MEAN(pdvalues) = 252.9886\n",
      "STD(npvalues) = 144.7577839062204         STD(pdvalues) = 144.18630322968926\n",
      "VARIANCE(npvalues) = 20954.816001440002   VARIANCE(pdvalues) = 20789.6900390439\n"
     ]
    }
   ],
   "source": [
    "print('MIN(npvalues) = {0: <25} MIN(pdvalues) = {1}'.format(npvalues.min(), pdvalues.min())) # minimum\n",
    "print('MAX(npvalues) = {0: <25} MAX(pdvalues) = {1}'.format(npvalues.max(), pdvalues.max()))  # maximum\n",
    "print('RANGE(npvalues) = {0: <23} RANGE(pdvalues) = {1}'.format(npvalues.ptp(), pdvalues.ptp()))  # range\n",
    "print('MEAN(npvalues) = {0: <24} MEAN(pdvalues) = {1}'.format(npvalues.mean(), pdvalues.mean()))  # mean\n",
    "print('STD(npvalues) = {0: <25} STD(pdvalues) = {1}'.format(npvalues.std(), pdvalues.std()))  # standard deviation\n",
    "print('VARIANCE(npvalues) = {0: <20} VARIANCE(pdvalues) = {1}'.format(npvalues.var(), pdvalues.var()))  # variance"
   ]
  },
  {
   "cell_type": "markdown",
   "metadata": {},
   "source": [
    "Additionally, pandas `Series` have a method called `describe()` that returns a convenient summary of these basic statistics."
   ]
  },
  {
   "cell_type": "code",
   "execution_count": 6,
   "metadata": {},
   "outputs": [
    {
     "data": {
      "text/plain": [
       "count    10000.000000\n",
       "mean       252.988600\n",
       "std        144.186303\n",
       "min          0.000000\n",
       "25%        129.000000\n",
       "50%        252.000000\n",
       "75%        380.000000\n",
       "max        499.000000\n",
       "dtype: float64"
      ]
     },
     "execution_count": 6,
     "metadata": {},
     "output_type": "execute_result"
    }
   ],
   "source": [
    "pdvalues.describe()"
   ]
  },
  {
   "cell_type": "markdown",
   "metadata": {},
   "source": [
    "For non-numerical series objects, `describe()` will return a simple summary of the number of unique values and most frequently occurring ones."
   ]
  },
  {
   "cell_type": "code",
   "execution_count": 7,
   "metadata": {},
   "outputs": [
    {
     "data": {
      "text/plain": [
       "count     9\n",
       "unique    4\n",
       "top       a\n",
       "freq      5\n",
       "dtype: object"
      ]
     },
     "execution_count": 7,
     "metadata": {},
     "output_type": "execute_result"
    }
   ],
   "source": [
    "s = pd.Series(['a', 'a', 'b', 'b', 'a', 'a', np.nan, 'c', 'd', 'a'])\n",
    "s.describe()"
   ]
  },
  {
   "cell_type": "markdown",
   "metadata": {},
   "source": [
    "*np.nan* is used to denote missing values. By default, the statistical methods implemented in pandas (both for a  `Series` and `DataFrame`) skip these values, which is not always the case when we are dealing with an `ndarray`. This behavior can be altered by including the *skipna=False* flag when calling a method."
   ]
  },
  {
   "cell_type": "markdown",
   "metadata": {},
   "source": [
    "## Handling missing data with pandas"
   ]
  },
  {
   "cell_type": "markdown",
   "metadata": {},
   "source": [
    "pandas provides extensive support for missing data. For full documentation, [consult this webpage](http://pandas-docs.github.io/pandas-docs-travis/).\n",
    "\n",
    "Below are a few examples of how to work with missing data using pandas. First, we create a pandas `DataFrame` with 5 rows and 3 columns. We then fill the `DataFrame` with random numbers:"
   ]
  },
  {
   "cell_type": "code",
   "execution_count": 8,
   "metadata": {},
   "outputs": [
    {
     "name": "stdout",
     "output_type": "stream",
     "text": [
      "        one       two     three\n",
      "a  0.067324 -0.641753  0.204048\n",
      "c -2.739763  2.174077 -1.448843\n",
      "e -0.170618  0.195781 -1.095743\n",
      "f -0.019640 -1.775097  0.928841\n",
      "h -1.053694 -0.350563  0.856811\n"
     ]
    }
   ],
   "source": [
    "df = pd.DataFrame(np.random.randn(5, 3),\n",
    "                  index=['a', 'c', 'e', 'f', 'h'],\n",
    "                  columns=['one', 'two', 'three'])\n",
    "print(df)"
   ]
  },
  {
   "cell_type": "markdown",
   "metadata": {},
   "source": [
    "Next, we add two more columns, named 'four' and 'five':"
   ]
  },
  {
   "cell_type": "code",
   "execution_count": 9,
   "metadata": {},
   "outputs": [
    {
     "name": "stdout",
     "output_type": "stream",
     "text": [
      "        one       two     three four   five\n",
      "a  0.067324 -0.641753  0.204048  bar   True\n",
      "c -2.739763  2.174077 -1.448843  bar  False\n",
      "e -0.170618  0.195781 -1.095743  bar  False\n",
      "f -0.019640 -1.775097  0.928841  bar  False\n",
      "h -1.053694 -0.350563  0.856811  bar  False\n"
     ]
    }
   ],
   "source": [
    "df['four'] = 'bar'\n",
    "df['five'] = df['one'] > 0\n",
    "print(df)"
   ]
  },
  {
   "cell_type": "markdown",
   "metadata": {},
   "source": [
    "Adding new rows is also simple. Below we include three extra empty rows:"
   ]
  },
  {
   "cell_type": "code",
   "execution_count": 10,
   "metadata": {},
   "outputs": [
    {
     "name": "stdout",
     "output_type": "stream",
     "text": [
      "        one       two     three four   five\n",
      "a  0.067324 -0.641753  0.204048  bar   True\n",
      "b       NaN       NaN       NaN  NaN    NaN\n",
      "c -2.739763  2.174077 -1.448843  bar  False\n",
      "d       NaN       NaN       NaN  NaN    NaN\n",
      "e -0.170618  0.195781 -1.095743  bar  False\n",
      "f -0.019640 -1.775097  0.928841  bar  False\n",
      "g       NaN       NaN       NaN  NaN    NaN\n",
      "h -1.053694 -0.350563  0.856811  bar  False\n"
     ]
    }
   ],
   "source": [
    "df2 = df.reindex(['a', 'b', 'c', 'd', 'e', 'f', 'g', 'h'])\n",
    "print(df2)"
   ]
  },
  {
   "cell_type": "markdown",
   "metadata": {},
   "source": [
    "This is one way to index a column in pandas:"
   ]
  },
  {
   "cell_type": "code",
   "execution_count": 11,
   "metadata": {},
   "outputs": [
    {
     "data": {
      "text/plain": [
       "a    0.067324\n",
       "b         NaN\n",
       "c   -2.739763\n",
       "d         NaN\n",
       "e   -0.170618\n",
       "f   -0.019640\n",
       "g         NaN\n",
       "h   -1.053694\n",
       "Name: one, dtype: float64"
      ]
     },
     "execution_count": 11,
     "metadata": {},
     "output_type": "execute_result"
    }
   ],
   "source": [
    "df2['one']"
   ]
  },
  {
   "cell_type": "markdown",
   "metadata": {},
   "source": [
    "This is one way to index a row in pandas:"
   ]
  },
  {
   "cell_type": "code",
   "execution_count": 12,
   "metadata": {},
   "outputs": [
    {
     "data": {
      "text/plain": [
       "one      0.0673245\n",
       "two      -0.641753\n",
       "three     0.204048\n",
       "four           bar\n",
       "five          True\n",
       "Name: a, dtype: object"
      ]
     },
     "execution_count": 12,
     "metadata": {},
     "output_type": "execute_result"
    }
   ],
   "source": [
    "df2.loc['a']"
   ]
  },
  {
   "cell_type": "markdown",
   "metadata": {},
   "source": [
    "pandas has two functions, `isnull()` and `notnull()`, that return boolean objects when called:"
   ]
  },
  {
   "cell_type": "code",
   "execution_count": 13,
   "metadata": {},
   "outputs": [
    {
     "data": {
      "text/plain": [
       "a    False\n",
       "b     True\n",
       "c    False\n",
       "d     True\n",
       "e    False\n",
       "f    False\n",
       "g     True\n",
       "h    False\n",
       "Name: one, dtype: bool"
      ]
     },
     "execution_count": 13,
     "metadata": {},
     "output_type": "execute_result"
    }
   ],
   "source": [
    "pd.isnull(df2['one'])"
   ]
  },
  {
   "cell_type": "code",
   "execution_count": 14,
   "metadata": {},
   "outputs": [
    {
     "data": {
      "text/plain": [
       "a     True\n",
       "b    False\n",
       "c     True\n",
       "d    False\n",
       "e     True\n",
       "f     True\n",
       "g    False\n",
       "h     True\n",
       "Name: one, dtype: bool"
      ]
     },
     "execution_count": 14,
     "metadata": {},
     "output_type": "execute_result"
    }
   ],
   "source": [
    "pd.notnull(df2['one'])"
   ]
  },
  {
   "cell_type": "markdown",
   "metadata": {},
   "source": [
    "Missing values propagate naturally through arithmetic operations between pandas objects."
   ]
  },
  {
   "cell_type": "code",
   "execution_count": 15,
   "metadata": {},
   "outputs": [
    {
     "name": "stdout",
     "output_type": "stream",
     "text": [
      "        one       two\n",
      "a       NaN -0.641753\n",
      "c       NaN  2.174077\n",
      "e       NaN  0.195781\n",
      "f -0.019640 -1.775097\n",
      "h -1.053694 -0.350563\n"
     ]
    }
   ],
   "source": [
    "a = df[['one','two']].copy()\n",
    "a['one']['a':'e'] = float('nan')\n",
    "print(a)"
   ]
  },
  {
   "cell_type": "code",
   "execution_count": 16,
   "metadata": {},
   "outputs": [
    {
     "name": "stdout",
     "output_type": "stream",
     "text": [
      "        one       two     three\n",
      "a  0.067324 -0.641753  0.204048\n",
      "c -2.739763  2.174077 -1.448843\n",
      "e -0.170618  0.195781 -1.095743\n",
      "f -0.019640 -1.775097  0.928841\n",
      "h -1.053694 -0.350563  0.856811\n"
     ]
    }
   ],
   "source": [
    "b = df[['one','two','three']]\n",
    "print(b)"
   ]
  },
  {
   "cell_type": "code",
   "execution_count": 17,
   "metadata": {},
   "outputs": [
    {
     "name": "stdout",
     "output_type": "stream",
     "text": [
      "        one  three       two\n",
      "a       NaN    NaN -1.283507\n",
      "c       NaN    NaN  4.348155\n",
      "e       NaN    NaN  0.391562\n",
      "f -0.039279    NaN -3.550194\n",
      "h -2.107388    NaN -0.701127\n"
     ]
    }
   ],
   "source": [
    "print(a + b)"
   ]
  },
  {
   "cell_type": "code",
   "execution_count": 18,
   "metadata": {},
   "outputs": [
    {
     "name": "stdout",
     "output_type": "stream",
     "text": [
      "f   -0.019640\n",
      "h   -1.053694\n",
      "Name: one, dtype: float64\n"
     ]
    }
   ],
   "source": [
    "a = a['one'].dropna()\n",
    "print(a)"
   ]
  },
  {
   "cell_type": "markdown",
   "metadata": {},
   "source": [
    "In pandas, summary statistics all account for missing values. \n",
    "*   When summing data, `NaN` (missing) values will be treated as zero.\n",
    "*   If the data are all `NaN`, the result will be `NaN`.\n",
    "*   Methods like `cumsum()` and `cumprod()` ignore `NaN` values, but preserve them in the resulting arrays."
   ]
  },
  {
   "cell_type": "markdown",
   "metadata": {},
   "source": [
    "*This is just the bare minimum. pandas has more functionality for working with missing data.*"
   ]
  },
  {
   "cell_type": "markdown",
   "metadata": {},
   "source": [
    "## Histograms"
   ]
  },
  {
   "cell_type": "markdown",
   "metadata": {},
   "source": [
    "### Using pandas"
   ]
  },
  {
   "cell_type": "markdown",
   "metadata": {},
   "source": [
    "Plotting histograms using pandas is quite straightforward. Using the above pandas `Series`, we can simply call the `hist()` method."
   ]
  },
  {
   "cell_type": "code",
   "execution_count": 19,
   "metadata": {},
   "outputs": [
    {
     "data": {
      "image/png": "[encoded data removed]",
      "text/plain": [
       "<Figure size 432x288 with 1 Axes>"
      ]
     },
     "metadata": {
      "needs_background": "light"
     },
     "output_type": "display_data"
    }
   ],
   "source": [
    "pdhist = pdvalues.hist()"
   ]
  },
  {
   "cell_type": "markdown",
   "metadata": {},
   "source": [
    "Parameters can be used to change the number of bins, color, transparency, etc."
   ]
  },
  {
   "cell_type": "code",
   "execution_count": 20,
   "metadata": {},
   "outputs": [
    {
     "data": {
      "image/png": "[encoded data removed]",
      "text/plain": [
       "<Figure size 720x432 with 1 Axes>"
      ]
     },
     "metadata": {
      "needs_background": "light"
     },
     "output_type": "display_data"
    }
   ],
   "source": [
    "pdhist2 = pdvalues.hist(bins=20, color='r', alpha=0.4, figsize=(10,6))"
   ]
  },
  {
   "cell_type": "markdown",
   "metadata": {},
   "source": [
    "### Using NumPy + Matplotlib"
   ]
  },
  {
   "cell_type": "markdown",
   "metadata": {},
   "source": [
    "pandas can produce visualizations directly by using or \"wrapping\" matplotlib, a popular plotting library for Python. This means that when we plot a histogram using pandas, pandas is actually using the `hist()` method of matplotlib to produce this plot. We can of course achieve the same result by performing that call on our `ndarray` directly from matplotlib.\n",
    "\n",
    "To do this, we first have to import matplotlib."
   ]
  },
  {
   "cell_type": "code",
   "execution_count": 21,
   "metadata": {},
   "outputs": [],
   "source": [
    "import matplotlib.pyplot as plt  # required for plotting"
   ]
  },
  {
   "cell_type": "markdown",
   "metadata": {},
   "source": [
    "Next, we call the `hist()` method of matplotlib, with our `ndarray` as input:"
   ]
  },
  {
   "cell_type": "code",
   "execution_count": 22,
   "metadata": {},
   "outputs": [
    {
     "data": {
      "image/png": "[encoded data removed]",
      "text/plain": [
       "<Figure size 432x288 with 1 Axes>"
      ]
     },
     "metadata": {
      "needs_background": "light"
     },
     "output_type": "display_data"
    }
   ],
   "source": [
    "nphist = plt.hist(npvalues)"
   ]
  },
  {
   "cell_type": "markdown",
   "metadata": {},
   "source": [
    "## Boxplots"
   ]
  },
  {
   "cell_type": "markdown",
   "metadata": {},
   "source": [
    "### Using pandas"
   ]
  },
  {
   "cell_type": "markdown",
   "metadata": {},
   "source": [
    "The pandas `DataFrame` has a boxplot method that allows you to visualize the distribution of values within each column."
   ]
  },
  {
   "cell_type": "code",
   "execution_count": 23,
   "metadata": {},
   "outputs": [
    {
     "name": "stdout",
     "output_type": "stream",
     "text": [
      "       Col1      Col2\n",
      "0  0.084800  0.708036\n",
      "1  0.178523  0.467908\n",
      "2  0.836744  0.029269\n",
      "3  0.791902  0.940596\n",
      "4  0.894495  0.439962\n"
     ]
    }
   ],
   "source": [
    "df = pd.DataFrame(np.random.rand(10,2), columns=['Col1', 'Col2'])\n",
    "print(df.head())"
   ]
  },
  {
   "cell_type": "code",
   "execution_count": 24,
   "metadata": {},
   "outputs": [
    {
     "data": {
      "image/png": "[encoded data removed]",
      "text/plain": [
       "<Figure size 432x288 with 1 Axes>"
      ]
     },
     "metadata": {
      "needs_background": "light"
     },
     "output_type": "display_data"
    }
   ],
   "source": [
    "box = df.boxplot(grid=False)"
   ]
  },
  {
   "cell_type": "markdown",
   "metadata": {},
   "source": [
    "### Using NumPy + Matplotlib"
   ]
  },
  {
   "cell_type": "code",
   "execution_count": 25,
   "metadata": {},
   "outputs": [
    {
     "data": {
      "image/png": "[encoded data removed]",
      "text/plain": [
       "<Figure size 432x288 with 1 Axes>"
      ]
     },
     "metadata": {
      "needs_background": "light"
     },
     "output_type": "display_data"
    }
   ],
   "source": [
    "fig = plt.figure()\n",
    "ax = fig.add_subplot(111)\n",
    "\n",
    "x1 = np.random.normal(0,1,50)\n",
    "x2 = np.random.normal(1,1,50)\n",
    "\n",
    "npbox = ax.boxplot([x1,x2])"
   ]
  },
  {
   "cell_type": "markdown",
   "metadata": {},
   "source": [
    "## Scatterplots"
   ]
  },
  {
   "cell_type": "markdown",
   "metadata": {},
   "source": [
    "### Using pandas"
   ]
  },
  {
   "cell_type": "markdown",
   "metadata": {},
   "source": [
    "Let's define a `DataFrame` containing 2 columns, each with 200 random numbers < 1."
   ]
  },
  {
   "cell_type": "code",
   "execution_count": 26,
   "metadata": {},
   "outputs": [],
   "source": [
    "df = pd.DataFrame(np.random.rand(200,2))"
   ]
  },
  {
   "cell_type": "code",
   "execution_count": 27,
   "metadata": {},
   "outputs": [
    {
     "data": {
      "image/png": "[encoded data removed]",
      "text/plain": [
       "<Figure size 432x288 with 1 Axes>"
      ]
     },
     "metadata": {
      "needs_background": "light"
     },
     "output_type": "display_data"
    }
   ],
   "source": [
    "pdscatter = plt.scatter(df[0], df[1])"
   ]
  },
  {
   "cell_type": "markdown",
   "metadata": {},
   "source": [
    "### Using NumPy + Matplotlib"
   ]
  },
  {
   "cell_type": "code",
   "execution_count": 28,
   "metadata": {},
   "outputs": [
    {
     "data": {
      "image/png": "[encoded data removed]",
      "text/plain": [
       "<Figure size 432x288 with 1 Axes>"
      ]
     },
     "metadata": {
      "needs_background": "light"
     },
     "output_type": "display_data"
    }
   ],
   "source": [
    "x = np.random.randn(200)\n",
    "y = np.random.randn(200)\n",
    "\n",
    "fig = plt.figure()\n",
    "ax = fig.add_subplot(111)\n",
    "\n",
    "npscatter = ax.scatter(x,y,color='r')"
   ]
  }
 ],
 "metadata": {
  "kernelspec": {
   "display_name": "Python 3",
   "language": "python",
   "name": "python3"
  },
  "language_info": {
   "codemirror_mode": {
    "name": "ipython",
    "version": 3
   },
   "file_extension": ".py",
   "mimetype": "text/x-python",
   "name": "python",
   "nbconvert_exporter": "python",
   "pygments_lexer": "ipython3",
   "version": "3.7.1"
  }
 },
 "nbformat": 4,
 "nbformat_minor": 1
}
